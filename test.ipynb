{
 "cells": [
  {
   "cell_type": "code",
   "execution_count": 1,
   "metadata": {},
   "outputs": [
    {
     "data": {
      "text/html": "\n        <iframe\n            width=\"800\"\n            height=\"550\"\n            src=\"https://drawdata.xyz/scatter.html\"\n            frameborder=\"0\"\n            allowfullscreen\n        ></iframe>\n        ",
      "text/plain": "<IPython.lib.display.IFrame at 0x1ba59584b20>"
     },
     "execution_count": 1,
     "metadata": {},
     "output_type": "execute_result"
    }
   ],
   "source": [
    "from drawdata import draw_line, draw_scatter, draw_histogram\r\n",
    "\r\n",
    "draw_scatter()"
   ]
  },
  {
   "cell_type": "code",
   "execution_count": 1,
   "metadata": {},
   "outputs": [
    {
     "data": {
      "text/html": "<div>\n<style scoped>\n    .dataframe tbody tr th:only-of-type {\n        vertical-align: middle;\n    }\n\n    .dataframe tbody tr th {\n        vertical-align: top;\n    }\n\n    .dataframe thead th {\n        text-align: right;\n    }\n</style>\n<table border=\"1\" class=\"dataframe\">\n  <thead>\n    <tr style=\"text-align: right;\">\n      <th></th>\n      <th>[{\"x\":248.8767592125544</th>\n      <th>y:414.34979070954915</th>\n      <th>color:\"a\"}</th>\n      <th>{\"x\":266.79031899332887</th>\n      <th>y:400.9414706975476</th>\n      <th>color:\"a\"}.1</th>\n      <th>{\"x\":212.95885506841424</th>\n      <th>y:413.139505921689</th>\n      <th>color:\"a\"}.2</th>\n      <th>{\"x\":250.28965061556733</th>\n      <th>...</th>\n      <th>color:\"b\"}.69</th>\n      <th>{\"x\":78.36272003565333</th>\n      <th>y:369.75637491596433</th>\n      <th>color:\"b\"}.70</th>\n      <th>{\"x\":75.29077550213245</th>\n      <th>y:389.2624050743556</th>\n      <th>color:\"b\"}.71</th>\n      <th>{\"x\":79.6662291580624</th>\n      <th>y:399.8100195458842</th>\n      <th>color:\"b\"}]</th>\n    </tr>\n  </thead>\n  <tbody>\n  </tbody>\n</table>\n<p>0 rows × 426 columns</p>\n</div>",
      "text/plain": "Empty DataFrame\nColumns: [[{\"x\":248.8767592125544, y:414.34979070954915, color:\"a\"}, {\"x\":266.79031899332887, y:400.9414706975476, color:\"a\"}.1, {\"x\":212.95885506841424, y:413.139505921689, color:\"a\"}.2, {\"x\":250.28965061556733, y:448.5083771734736, color:\"a\"}.3, {\"x\":224.60365116727283, y:434.85116872007524, color:\"a\"}.4, {\"x\":186.27380184200348, y:420.4927722669227, color:\"a\"}.5, {\"x\":149.06290487392548, y:376.68886687341615, color:\"a\"}.6, {\"x\":167.13042887202235, y:391.69464061548047, color:\"a\"}.7, {\"x\":195.88594181776773, y:405.9434888774659, color:\"a\"}.8, {\"x\":157.78307121700982, y:444.6666244293733, color:\"a\"}.9, {\"x\":168.76888297962003, y:421.42967791543083, color:\"a\"}.10, {\"x\":201.83744452250127, y:383.63949960033557, color:\"a\"}.11, {\"x\":146.80022757166176, y:418.3333792054974, color:\"a\"}.12, {\"x\":116.08296484651402, y:389.23190218661193, color:\"a\"}.13, {\"x\":160.63349257970017, y:383.5495892551005, color:\"a\"}.14, {\"x\":115.07759750936849, y:389.43237359266834, color:\"a\"}.15, {\"x\":103.78330000495929, y:370.6753286973649, color:\"a\"}.16, {\"x\":136.47432580759934, y:415.90030932222686, color:\"a\"}.17, {\"x\":141.07588009721036, y:382.4823665315665, color:\"a\"}.18, {\"x\":147.44272648611573, y:348.5139847669357, color:\"a\"}.19, {\"x\":164.51686642611136, y:398.0797052734405, color:\"a\"}.20, {\"x\":135.18373418435888, y:384.32676369913554, color:\"a\"}.21, {\"x\":111.52401294080076, y:404.1977487465806, color:\"a\"}.22, {\"x\":167.05772920654516, y:335.2524188958362, color:\"a\"}.23, {\"x\":149.35143835627343, y:375.13313032238284, color:\"a\"}.24, {\"x\":117.27355761459955, y:331.72256500040817, color:\"a\"}.25, {\"x\":132.59948586755615, y:368.7642149989905, color:\"a\"}.26, {\"x\":159.40317339700326, y:363.1734051370938, color:\"a\"}.27, {\"x\":140.397326119675, y:347.4970887893648, color:\"a\"}.28, {\"x\":193.76483851128688, y:376.80492679787625, color:\"a\"}.29, {\"x\":140.72542308022562, y:330.9578053269714, color:\"a\"}.30, {\"x\":120.69012928008954, y:384.5629476147668, color:\"a\"}.31, {\"x\":188.57887222142764, y:339.3936842046007, color:\"a\"}.32, {\"x\":166.18401978969587, ...]\nIndex: []\n\n[0 rows x 426 columns]"
     },
     "execution_count": 1,
     "metadata": {},
     "output_type": "execute_result"
    }
   ],
   "source": [
    "import pandas as pd\r\n",
    "\r\n",
    "pd.read_clipboard(sep=\",\")"
   ]
  }
 ],
 "metadata": {
  "kernelspec": {
   "display_name": "Python 3.8.5 64-bit ('base': conda)",
   "name": "python385jvsc74a57bd013adcd66d8dada4a736fe85cf3dd79598edabc2035e59a9239f2d07140176008"
  },
  "language_info": {
   "codemirror_mode": {
    "name": "ipython",
    "version": 3
   },
   "file_extension": ".py",
   "mimetype": "text/x-python",
   "name": "python",
   "nbconvert_exporter": "python",
   "pygments_lexer": "ipython3",
   "version": "3.8.5"
  },
  "orig_nbformat": 2
 },
 "nbformat": 4,
 "nbformat_minor": 2
}