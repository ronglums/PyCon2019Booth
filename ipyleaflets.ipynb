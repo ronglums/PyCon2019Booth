{
  "cells": [
    {
      "cell_type": "markdown",
      "metadata": {},
      "source": [
        "# Prerequisites\n",
        "\n",
        "### pip install ipyleaflet"
      ]
    },
    {
      "cell_type": "code",
      "execution_count": 2,
      "metadata": {
        "dotnet_interactive": {
          "language": "csharp"
        }
      },
      "outputs": [
        {
          "name": "stdout",
          "output_type": "stream",
          "text": [
            "Requirement already satisfied: ipyleaflet in c:\\users\\ronglu\\anaconda3\\lib\\site-packages (0.13.6)\n",
            "Requirement already satisfied: ipywidgets<8,>=7.6.0 in c:\\users\\ronglu\\anaconda3\\lib\\site-packages (from ipyleaflet) (7.6.3)\n",
            "Requirement already satisfied: shapely in c:\\users\\ronglu\\anaconda3\\lib\\site-packages (from ipyleaflet) (1.7.1)\n",
            "Requirement already satisfied: branca<0.5,>=0.3.1 in c:\\users\\ronglu\\anaconda3\\lib\\site-packages (from ipyleaflet) (0.4.2)\n",
            "Requirement already satisfied: traittypes<3,>=0.2.1 in c:\\users\\ronglu\\anaconda3\\lib\\site-packages (from ipyleaflet) (0.2.1)\n",
            "Requirement already satisfied: ipython>=4.0.0; python_version >= \"3.3\" in c:\\users\\ronglu\\anaconda3\\lib\\site-packages (from ipywidgets<8,>=7.6.0->ipyleaflet) (7.19.0)\n",
            "Requirement already satisfied: jupyterlab-widgets>=1.0.0; python_version >= \"3.6\" in c:\\users\\ronglu\\anaconda3\\lib\\site-packages (from ipywidgets<8,>=7.6.0->ipyleaflet) (1.0.0)\n",
            "Requirement already satisfied: widgetsnbextension~=3.5.0 in c:\\users\\ronglu\\anaconda3\\lib\\site-packages (from ipywidgets<8,>=7.6.0->ipyleaflet) (3.5.1)\n",
            "Requirement already satisfied: nbformat>=4.2.0 in c:\\users\\ronglu\\anaconda3\\lib\\site-packages (from ipywidgets<8,>=7.6.0->ipyleaflet) (5.0.8)\n",
            "Requirement already satisfied: traitlets>=4.3.1 in c:\\users\\ronglu\\anaconda3\\lib\\site-packages (from ipywidgets<8,>=7.6.0->ipyleaflet) (5.0.5)\n",
            "Requirement already satisfied: ipykernel>=4.5.1 in c:\\users\\ronglu\\anaconda3\\lib\\site-packages (from ipywidgets<8,>=7.6.0->ipyleaflet) (5.3.4)\n",
            "Requirement already satisfied: jinja2 in c:\\users\\ronglu\\anaconda3\\lib\\site-packages (from branca<0.5,>=0.3.1->ipyleaflet) (2.11.2)\n",
            "Requirement already satisfied: pygments in c:\\users\\ronglu\\anaconda3\\lib\\site-packages (from ipython>=4.0.0; python_version >= \"3.3\"->ipywidgets<8,>=7.6.0->ipyleaflet) (2.7.2)\n",
            "Requirement already satisfied: setuptools>=18.5 in c:\\users\\ronglu\\anaconda3\\lib\\site-packages (from ipython>=4.0.0; python_version >= \"3.3\"->ipywidgets<8,>=7.6.0->ipyleaflet) (50.3.1.post20201107)\n",
            "Requirement already satisfied: backcall in c:\\users\\ronglu\\anaconda3\\lib\\site-packages (from ipython>=4.0.0; python_version >= \"3.3\"->ipywidgets<8,>=7.6.0->ipyleaflet) (0.2.0)\n",
            "Requirement already satisfied: colorama; sys_platform == \"win32\" in c:\\users\\ronglu\\anaconda3\\lib\\site-packages (from ipython>=4.0.0; python_version >= \"3.3\"->ipywidgets<8,>=7.6.0->ipyleaflet) (0.4.4)\n",
            "Requirement already satisfied: jedi>=0.10 in c:\\users\\ronglu\\anaconda3\\lib\\site-packages (from ipython>=4.0.0; python_version >= \"3.3\"->ipywidgets<8,>=7.6.0->ipyleaflet) (0.17.1)\n",
            "Requirement already satisfied: pickleshare in c:\\users\\ronglu\\anaconda3\\lib\\site-packages (from ipython>=4.0.0; python_version >= \"3.3\"->ipywidgets<8,>=7.6.0->ipyleaflet) (0.7.5)\n",
            "Requirement already satisfied: prompt-toolkit!=3.0.0,!=3.0.1,<3.1.0,>=2.0.0 in c:\\users\\ronglu\\anaconda3\\lib\\site-packages (from ipython>=4.0.0; python_version >= \"3.3\"->ipywidgets<8,>=7.6.0->ipyleaflet) (3.0.8)\n",
            "Requirement already satisfied: decorator in c:\\users\\ronglu\\anaconda3\\lib\\site-packages (from ipython>=4.0.0; python_version >= \"3.3\"->ipywidgets<8,>=7.6.0->ipyleaflet) (4.4.2)\n",
            "Requirement already satisfied: notebook>=4.4.1 in c:\\users\\ronglu\\anaconda3\\lib\\site-packages (from widgetsnbextension~=3.5.0->ipywidgets<8,>=7.6.0->ipyleaflet) (6.1.4)\n",
            "Requirement already satisfied: jupyter-core in c:\\users\\ronglu\\anaconda3\\lib\\site-packages (from nbformat>=4.2.0->ipywidgets<8,>=7.6.0->ipyleaflet) (4.6.3)\n",
            "Requirement already satisfied: jsonschema!=2.5.0,>=2.4 in c:\\users\\ronglu\\anaconda3\\lib\\site-packages (from nbformat>=4.2.0->ipywidgets<8,>=7.6.0->ipyleaflet) (3.2.0)\n",
            "Requirement already satisfied: ipython-genutils in c:\\users\\ronglu\\anaconda3\\lib\\site-packages (from nbformat>=4.2.0->ipywidgets<8,>=7.6.0->ipyleaflet) (0.2.0)\n",
            "Requirement already satisfied: tornado>=4.2 in c:\\users\\ronglu\\anaconda3\\lib\\site-packages (from ipykernel>=4.5.1->ipywidgets<8,>=7.6.0->ipyleaflet) (6.0.4)\n",
            "Requirement already satisfied: jupyter-client in c:\\users\\ronglu\\anaconda3\\lib\\site-packages (from ipykernel>=4.5.1->ipywidgets<8,>=7.6.0->ipyleaflet) (6.1.7)\n",
            "Requirement already satisfied: MarkupSafe>=0.23 in c:\\users\\ronglu\\anaconda3\\lib\\site-packages (from jinja2->branca<0.5,>=0.3.1->ipyleaflet) (1.1.1)\n",
            "Requirement already satisfied: parso<0.8.0,>=0.7.0 in c:\\users\\ronglu\\anaconda3\\lib\\site-packages (from jedi>=0.10->ipython>=4.0.0; python_version >= \"3.3\"->ipywidgets<8,>=7.6.0->ipyleaflet) (0.7.0)\n",
            "Requirement already satisfied: wcwidth in c:\\users\\ronglu\\anaconda3\\lib\\site-packages (from prompt-toolkit!=3.0.0,!=3.0.1,<3.1.0,>=2.0.0->ipython>=4.0.0; python_version >= \"3.3\"->ipywidgets<8,>=7.6.0->ipyleaflet) (0.2.5)\n",
            "Requirement already satisfied: nbconvert in c:\\users\\ronglu\\anaconda3\\lib\\site-packages (from notebook>=4.4.1->widgetsnbextension~=3.5.0->ipywidgets<8,>=7.6.0->ipyleaflet) (6.0.7)\n",
            "Requirement already satisfied: Send2Trash in c:\\users\\ronglu\\anaconda3\\lib\\site-packages (from notebook>=4.4.1->widgetsnbextension~=3.5.0->ipywidgets<8,>=7.6.0->ipyleaflet) (1.5.0)\n",
            "Requirement already satisfied: terminado>=0.8.3 in c:\\users\\ronglu\\anaconda3\\lib\\site-packages (from notebook>=4.4.1->widgetsnbextension~=3.5.0->ipywidgets<8,>=7.6.0->ipyleaflet) (0.9.1)\n",
            "Requirement already satisfied: prometheus-client in c:\\users\\ronglu\\anaconda3\\lib\\site-packages (from notebook>=4.4.1->widgetsnbextension~=3.5.0->ipywidgets<8,>=7.6.0->ipyleaflet) (0.8.0)\n",
            "Requirement already satisfied: argon2-cffi in c:\\users\\ronglu\\anaconda3\\lib\\site-packages (from notebook>=4.4.1->widgetsnbextension~=3.5.0->ipywidgets<8,>=7.6.0->ipyleaflet) (20.1.0)\n",
            "Requirement already satisfied: pyzmq>=17 in c:\\users\\ronglu\\anaconda3\\lib\\site-packages (from notebook>=4.4.1->widgetsnbextension~=3.5.0->ipywidgets<8,>=7.6.0->ipyleaflet) (19.0.2)\n",
            "Requirement already satisfied: pywin32>=1.0; sys_platform == \"win32\" in c:\\users\\ronglu\\anaconda3\\lib\\site-packages (from jupyter-core->nbformat>=4.2.0->ipywidgets<8,>=7.6.0->ipyleaflet) (227)\n",
            "Requirement already satisfied: pyrsistent>=0.14.0 in c:\\users\\ronglu\\anaconda3\\lib\\site-packages (from jsonschema!=2.5.0,>=2.4->nbformat>=4.2.0->ipywidgets<8,>=7.6.0->ipyleaflet) (0.17.3)\n",
            "Requirement already satisfied: six>=1.11.0 in c:\\users\\ronglu\\anaconda3\\lib\\site-packages (from jsonschema!=2.5.0,>=2.4->nbformat>=4.2.0->ipywidgets<8,>=7.6.0->ipyleaflet) (1.15.0)\n",
            "Requirement already satisfied: attrs>=17.4.0 in c:\\users\\ronglu\\anaconda3\\lib\\site-packages (from jsonschema!=2.5.0,>=2.4->nbformat>=4.2.0->ipywidgets<8,>=7.6.0->ipyleaflet) (20.3.0)\n",
            "Requirement already satisfied: python-dateutil>=2.1 in c:\\users\\ronglu\\anaconda3\\lib\\site-packages (from jupyter-client->ipykernel>=4.5.1->ipywidgets<8,>=7.6.0->ipyleaflet) (2.8.1)\n",
            "Requirement already satisfied: bleach in c:\\users\\ronglu\\anaconda3\\lib\\site-packages (from nbconvert->notebook>=4.4.1->widgetsnbextension~=3.5.0->ipywidgets<8,>=7.6.0->ipyleaflet) (3.2.1)\n",
            "Requirement already satisfied: testpath in c:\\users\\ronglu\\anaconda3\\lib\\site-packages (from nbconvert->notebook>=4.4.1->widgetsnbextension~=3.5.0->ipywidgets<8,>=7.6.0->ipyleaflet) (0.4.4)\n",
            "Requirement already satisfied: mistune<2,>=0.8.1 in c:\\users\\ronglu\\anaconda3\\lib\\site-packages (from nbconvert->notebook>=4.4.1->widgetsnbextension~=3.5.0->ipywidgets<8,>=7.6.0->ipyleaflet) (0.8.4)\n",
            "Requirement already satisfied: entrypoints>=0.2.2 in c:\\users\\ronglu\\anaconda3\\lib\\site-packages (from nbconvert->notebook>=4.4.1->widgetsnbextension~=3.5.0->ipywidgets<8,>=7.6.0->ipyleaflet) (0.3)\n",
            "Requirement already satisfied: pandocfilters>=1.4.1 in c:\\users\\ronglu\\anaconda3\\lib\\site-packages (from nbconvert->notebook>=4.4.1->widgetsnbextension~=3.5.0->ipywidgets<8,>=7.6.0->ipyleaflet) (1.4.3)\n",
            "Requirement already satisfied: defusedxml in c:\\users\\ronglu\\anaconda3\\lib\\site-packages (from nbconvert->notebook>=4.4.1->widgetsnbextension~=3.5.0->ipywidgets<8,>=7.6.0->ipyleaflet) (0.6.0)\n",
            "Requirement already satisfied: jupyterlab-pygments in c:\\users\\ronglu\\anaconda3\\lib\\site-packages (from nbconvert->notebook>=4.4.1->widgetsnbextension~=3.5.0->ipywidgets<8,>=7.6.0->ipyleaflet) (0.1.2)\n",
            "Requirement already satisfied: nbclient<0.6.0,>=0.5.0 in c:\\users\\ronglu\\anaconda3\\lib\\site-packages (from nbconvert->notebook>=4.4.1->widgetsnbextension~=3.5.0->ipywidgets<8,>=7.6.0->ipyleaflet) (0.5.1)\n",
            "Requirement already satisfied: pywinpty>=0.5 in c:\\users\\ronglu\\anaconda3\\lib\\site-packages (from terminado>=0.8.3->notebook>=4.4.1->widgetsnbextension~=3.5.0->ipywidgets<8,>=7.6.0->ipyleaflet) (0.5.7)\n",
            "Requirement already satisfied: cffi>=1.0.0 in c:\\users\\ronglu\\anaconda3\\lib\\site-packages (from argon2-cffi->notebook>=4.4.1->widgetsnbextension~=3.5.0->ipywidgets<8,>=7.6.0->ipyleaflet) (1.14.3)\n",
            "Requirement already satisfied: webencodings in c:\\users\\ronglu\\anaconda3\\lib\\site-packages (from bleach->nbconvert->notebook>=4.4.1->widgetsnbextension~=3.5.0->ipywidgets<8,>=7.6.0->ipyleaflet) (0.5.1)\n",
            "Requirement already satisfied: packaging in c:\\users\\ronglu\\anaconda3\\lib\\site-packages (from bleach->nbconvert->notebook>=4.4.1->widgetsnbextension~=3.5.0->ipywidgets<8,>=7.6.0->ipyleaflet) (20.4)\n",
            "Requirement already satisfied: nest-asyncio in c:\\users\\ronglu\\anaconda3\\lib\\site-packages (from nbclient<0.6.0,>=0.5.0->nbconvert->notebook>=4.4.1->widgetsnbextension~=3.5.0->ipywidgets<8,>=7.6.0->ipyleaflet) (1.4.2)\n",
            "Requirement already satisfied: async-generator in c:\\users\\ronglu\\anaconda3\\lib\\site-packages (from nbclient<0.6.0,>=0.5.0->nbconvert->notebook>=4.4.1->widgetsnbextension~=3.5.0->ipywidgets<8,>=7.6.0->ipyleaflet) (1.10)\n",
            "Requirement already satisfied: pycparser in c:\\users\\ronglu\\anaconda3\\lib\\site-packages (from cffi>=1.0.0->argon2-cffi->notebook>=4.4.1->widgetsnbextension~=3.5.0->ipywidgets<8,>=7.6.0->ipyleaflet) (2.20)\n",
            "Requirement already satisfied: pyparsing>=2.0.2 in c:\\users\\ronglu\\anaconda3\\lib\\site-packages (from packaging->bleach->nbconvert->notebook>=4.4.1->widgetsnbextension~=3.5.0->ipywidgets<8,>=7.6.0->ipyleaflet) (2.4.7)\n",
            "Note: you may need to restart the kernel to use updated packages.\n"
          ]
        }
      ],
      "source": [
        "%pip install ipyleaflet"
      ]
    },
    {
      "cell_type": "markdown",
      "metadata": {},
      "source": [
        "%pip install ipyleaflet"
      ]
    },
    {
      "cell_type": "code",
      "execution_count": 3,
      "metadata": {
        "dotnet_interactive": {
          "language": "csharp"
        }
      },
      "outputs": [
        {
          "data": {
            "application/vnd.jupyter.widget-view+json": {
              "model_id": "3907066f19db425993eb67697fa53023",
              "version_major": 2,
              "version_minor": 0
            },
            "text/plain": "Map(center=[52.204793, 360.121558], controls=(ZoomControl(options=['position', 'zoom_in_text', 'zoom_in_title'…"
          },
          "metadata": {},
          "output_type": "display_data"
        }
      ],
      "source": [
        "from ipyleaflet import (\n",
        "    Map,\n",
        "    Marker, MarkerCluster,\n",
        "    TileLayer, ImageOverlay,\n",
        "    Polyline, Polygon, Rectangle, Circle, CircleMarker,\n",
        "    Popup,\n",
        "    GeoJSON,\n",
        "    DrawControl,\n",
        "    basemaps\n",
        ")\n",
        "from ipyleaflet.leaflet import Heatmap\n",
        "from ipywidgets import HTML\n",
        "from random import uniform\n",
        "import time\n",
        "center = (52.204793, 360.121558)\n",
        "\n",
        "m = Map(center=center, zoom=15)\n",
        "\n",
        "marker = Marker(location=center, draggable=True)\n",
        "m.add_layer(marker);\n",
        "\n",
        "display(m)"
      ]
    },
    {
      "cell_type": "code",
      "execution_count": 4,
      "metadata": {
        "dotnet_interactive": {
          "language": "csharp"
        }
      },
      "outputs": [],
      "source": [
        "def create_random_data(length):\n",
        "    \"Return a list of some random lat/lon/value triples.\"\n",
        "    return [[uniform(-80, 80), \n",
        "             uniform(-180, 180), \n",
        "             uniform(0, 1000)] for i in range(length)]"
      ]
    },
    {
      "cell_type": "code",
      "execution_count": 5,
      "metadata": {
        "dotnet_interactive": {
          "language": "csharp"
        }
      },
      "outputs": [
        {
          "data": {
            "application/vnd.jupyter.widget-view+json": {
              "model_id": "e106c360a7b24e68bb15eb17c5a674ed",
              "version_major": 2,
              "version_minor": 0
            },
            "text/plain": "Map(center=[0, 0], controls=(ZoomControl(options=['position', 'zoom_in_text', 'zoom_in_title', 'zoom_out_text'…"
          },
          "metadata": {},
          "output_type": "display_data"
        }
      ],
      "source": [
        "m = Map(center=[0, 0], zoom=2)\n",
        "m"
      ]
    },
    {
      "cell_type": "code",
      "execution_count": 6,
      "metadata": {
        "dotnet_interactive": {
          "language": "csharp"
        }
      },
      "outputs": [],
      "source": [
        "heat = Heatmap(locations=create_random_data(1000), radius=20, blur=10)\n",
        "m.add_layer(heat)"
      ]
    },
    {
      "cell_type": "code",
      "execution_count": 7,
      "metadata": {
        "dotnet_interactive": {
          "language": "csharp"
        }
      },
      "outputs": [
        {
          "data": {
            "application/vnd.jupyter.widget-view+json": {
              "model_id": "b5bab1d7d95e4344907466d7e75193e1",
              "version_major": 2,
              "version_minor": 0
            },
            "text/plain": "Box(children=(FloatSlider(value=2.0, description='zoom', max=10.0, min=2.0, step=0.25),))"
          },
          "metadata": {},
          "output_type": "display_data"
        }
      ],
      "source": [
        "m.interact(zoom=(2,10,.25))"
      ]
    }
  ],
  "metadata": {
    "kernelspec": {
      "display_name": "Python 3.8.5 64-bit ('base': conda)",
      "name": "python385jvsc74a57bd013adcd66d8dada4a736fe85cf3dd79598edabc2035e59a9239f2d07140176008"
    },
    "language_info": {
      "codemirror_mode": {
        "name": "ipython",
        "version": 3
      },
      "file_extension": ".py",
      "mimetype": "text/x-python",
      "name": "python",
      "nbconvert_exporter": "python",
      "pygments_lexer": "ipython3",
      "version": "3.8.5"
    }
  },
  "nbformat": 4,
  "nbformat_minor": 4
}