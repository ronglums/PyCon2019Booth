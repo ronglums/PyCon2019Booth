{
 "cells": [
  {
   "cell_type": "markdown",
   "metadata": {},
   "source": [
    "# Sunburst"
   ]
  },
  {
   "cell_type": "code",
   "execution_count": null,
   "metadata": {
    "dotnet_interactive": {
     "language": "html"
    }
   },
   "outputs": [
    {
     "data": {
      "text/html": "<svg id=\"viz\"></svg>\r\n"
     },
     "output_type": "unknown"
    }
   ],
   "source": [
    "<svg id=\"viz\"></svg>\r\n"
   ]
  },
  {
   "cell_type": "code",
   "execution_count": null,
   "metadata": {
    "dotnet_interactive": {
     "language": "javascript"
    }
   },
   "outputs": [
    {
     "data": {
      "text/html": "<script type=\"text/javascript\">\nif (typeof window.createDotnetInteractiveClient === typeof Function) {\n    window.createDotnetInteractiveClient('http://localhost:51280/').then(async function (interactive) {\n        const console = interactive.getConsole('5');\n        const notebookScope = getDotnetInteractiveScope('http://localhost:51280/');\n        try {\n\nawait Object.getPrototypeOf(async function() {}).constructor(\n    \"interactive\",\n    \"console\",\n    \"notebookScope\",\n    \"let dtreeLoader = interactive.configureRequire({\\r\\n    paths: {\\r\\n        d3: \\\"https://d3js.org/d3.v6.min\\\"\\r\\n    }\\r\\n});\\r\\n\\r\\ndtreeLoader([\\\"d3\\\"], function (d3) {\\r\\n    console.log(\\\"Loading d3\\\")\\r\\n})\"\n)(\n    interactive,\n    console,\n    notebookScope\n);\n\n        } catch (err) {\n            interactive.failCommand(err, '5');\n        } finally {\n            await interactive.waitForAllEventsToPublish('5');\n            await interactive.markExecutionComplete('5');\n        }\n    });\n}\n</script>"
     },
     "output_type": "unknown"
    },
    {
     "data": {
      "text/plain": "Loading d3"
     },
     "output_type": "unknown"
    }
   ],
   "source": [
    "let dtreeLoader = interactive.configureRequire({\r\n",
    "    paths: {\r\n",
    "        d3: \"https://d3js.org/d3.v6.min\"\r\n",
    "    }\r\n",
    "});\r\n",
    "\r\n",
    "dtreeLoader([\"d3\"], function (d3) {\r\n",
    "    console.log(\"Loading d3\")\r\n",
    "})"
   ]
  },
  {
   "cell_type": "code",
   "execution_count": null,
   "metadata": {
    "dotnet_interactive": {
     "language": "javascript"
    }
   },
   "outputs": [
    {
     "data": {
      "text/html": "<script type=\"text/javascript\">\nif (typeof window.createDotnetInteractiveClient === typeof Function) {\n    window.createDotnetInteractiveClient('http://localhost:51280/').then(async function (interactive) {\n        const console = interactive.getConsole('6');\n        const notebookScope = getDotnetInteractiveScope('http://localhost:51280/');\n        try {\n\nawait Object.getPrototypeOf(async function() {}).constructor(\n    \"interactive\",\n    \"console\",\n    \"notebookScope\",\n    \"define(\\u0027getfiledata\\u0027, [\\u0027d3\\u0027], function(d3) {\\r\\n\\r\\n    var url = \\u0027https://static.observableusercontent.com/files/4b8bc441afab87356f7b5cc5aef3130f4ca634aaae3a46ba7c0f7950b152bc9cdd9bbddae444d694f3e3b4d43587419a17eb0bd5fbd340ce6d6c7b31907bfc7b?response-content-disposition=attachment%3Bfilename*%3DUTF-8%27%27visit-sequences%25401.csv\\u0027;\\r\\n    var csv = \\\"\\\";\\r\\n    var data = {};\\r\\n\\r\\n    function buildHierarchy(csv) {\\r\\n        // Helper function that transforms the given CSV into a hierarchical format.\\r\\n        const root = { name: \\\"root\\\", children: [] };\\r\\n        for (let i = 0; i \\u003c csv.length; i++) {\\r\\n            const sequence = csv[i][0];\\r\\n            const size = +csv[i][1];\\r\\n            if (isNaN(size)) {\\r\\n                // e.g. if this is a header row\\r\\n                continue;\\r\\n            }\\r\\n            const parts = sequence.split(\\\"-\\\");\\r\\n            let currentNode = root;\\r\\n            for (let j = 0; j \\u003c parts.length; j++) {\\r\\n                const children = currentNode[\\\"children\\\"];\\r\\n                const nodeName = parts[j];\\r\\n                let childNode = null;\\r\\n                if (j + 1 \\u003c parts.length) {\\r\\n                    // Not yet at the end of the sequence; move down the tree.\\r\\n                    let foundChild = false;\\r\\n                    for (let k = 0; k \\u003c children.length; k++) {\\r\\n                        if (children[k][\\\"name\\\"] == nodeName) {\\r\\n                            childNode = children[k];\\r\\n                            foundChild = true;\\r\\n                            break;\\r\\n                        }\\r\\n                    }\\r\\n                    // If we don\\u0027t already have a child node for this branch, create it.\\r\\n                    if (!foundChild) {\\r\\n                        childNode = { name: nodeName, children: [] };\\r\\n                        children.push(childNode);\\r\\n                    }\\r\\n                    currentNode = childNode;\\r\\n                } else {\\r\\n                    // Reached the end of the sequence; create a leaf node.\\r\\n                    childNode = { name: nodeName, value: size };\\r\\n                    children.push(childNode);\\r\\n                }\\r\\n            }\\r\\n        }\\r\\n        return root;\\r\\n    }\\r\\n\\r\\n    const getData = async function() {\\r\\n        console.log(\\\"calling getData\\\")\\r\\n        const res = await fetch(url)\\r\\n        const text = await res.text()\\r\\n        const csv = d3.csvParseRows(text);\\r\\n        console.log(\\\"number of rows \\\" + csv.length)\\r\\n        data = buildHierarchy(csv)\\r\\n        console.log(\\\"returning \\\" + data + \\\" children: \\\" + data.children);\\r\\n        return data;\\r\\n    }\\r\\n    return getData;\\r\\n})\\r\\n\"\n)(\n    interactive,\n    console,\n    notebookScope\n);\n\n        } catch (err) {\n            interactive.failCommand(err, '6');\n        } finally {\n            await interactive.waitForAllEventsToPublish('6');\n            await interactive.markExecutionComplete('6');\n        }\n    });\n}\n</script>"
     },
     "output_type": "unknown"
    }
   ],
   "source": [
    "define('getfiledata', ['d3'], function(d3) {\r\n",
    "\r\n",
    "    var url = 'https://static.observableusercontent.com/files/4b8bc441afab87356f7b5cc5aef3130f4ca634aaae3a46ba7c0f7950b152bc9cdd9bbddae444d694f3e3b4d43587419a17eb0bd5fbd340ce6d6c7b31907bfc7b?response-content-disposition=attachment%3Bfilename*%3DUTF-8%27%27visit-sequences%25401.csv';\r\n",
    "    var csv = \"\";\r\n",
    "    var data = {};\r\n",
    "\r\n",
    "    function buildHierarchy(csv) {\r\n",
    "        // Helper function that transforms the given CSV into a hierarchical format.\r\n",
    "        const root = { name: \"root\", children: [] };\r\n",
    "        for (let i = 0; i < csv.length; i++) {\r\n",
    "            const sequence = csv[i][0];\r\n",
    "            const size = +csv[i][1];\r\n",
    "            if (isNaN(size)) {\r\n",
    "                // e.g. if this is a header row\r\n",
    "                continue;\r\n",
    "            }\r\n",
    "            const parts = sequence.split(\"-\");\r\n",
    "            let currentNode = root;\r\n",
    "            for (let j = 0; j < parts.length; j++) {\r\n",
    "                const children = currentNode[\"children\"];\r\n",
    "                const nodeName = parts[j];\r\n",
    "                let childNode = null;\r\n",
    "                if (j + 1 < parts.length) {\r\n",
    "                    // Not yet at the end of the sequence; move down the tree.\r\n",
    "                    let foundChild = false;\r\n",
    "                    for (let k = 0; k < children.length; k++) {\r\n",
    "                        if (children[k][\"name\"] == nodeName) {\r\n",
    "                            childNode = children[k];\r\n",
    "                            foundChild = true;\r\n",
    "                            break;\r\n",
    "                        }\r\n",
    "                    }\r\n",
    "                    // If we don't already have a child node for this branch, create it.\r\n",
    "                    if (!foundChild) {\r\n",
    "                        childNode = { name: nodeName, children: [] };\r\n",
    "                        children.push(childNode);\r\n",
    "                    }\r\n",
    "                    currentNode = childNode;\r\n",
    "                } else {\r\n",
    "                    // Reached the end of the sequence; create a leaf node.\r\n",
    "                    childNode = { name: nodeName, value: size };\r\n",
    "                    children.push(childNode);\r\n",
    "                }\r\n",
    "            }\r\n",
    "        }\r\n",
    "        return root;\r\n",
    "    }\r\n",
    "\r\n",
    "    const getData = async function() {\r\n",
    "        console.log(\"calling getData\")\r\n",
    "        const res = await fetch(url)\r\n",
    "        const text = await res.text()\r\n",
    "        const csv = d3.csvParseRows(text);\r\n",
    "        console.log(\"number of rows \" + csv.length)\r\n",
    "        data = buildHierarchy(csv)\r\n",
    "        console.log(\"returning \" + data + \" children: \" + data.children);\r\n",
    "        return data;\r\n",
    "    }\r\n",
    "    return getData;\r\n",
    "})\r\n"
   ]
  },
  {
   "cell_type": "code",
   "execution_count": null,
   "metadata": {
    "dotnet_interactive": {
     "language": "javascript"
    }
   },
   "outputs": [
    {
     "data": {
      "text/html": "<script type=\"text/javascript\">\nif (typeof window.createDotnetInteractiveClient === typeof Function) {\n    window.createDotnetInteractiveClient('http://localhost:51280/').then(async function (interactive) {\n        const console = interactive.getConsole('7');\n        const notebookScope = getDotnetInteractiveScope('http://localhost:51280/');\n        try {\n\nawait Object.getPrototypeOf(async function() {}).constructor(\n    \"interactive\",\n    \"console\",\n    \"notebookScope\",\n    \"var width = 932\\r\\nvar height = 932\\r\\nvar breadcrumbWidth = 75\\r\\nvar breadcrumbHeight = 30\\r\\nvar width = 640\\r\\nvar radius = 320\\r\\n\\r\\nfunction breadcrumbPoints(d, i) {\\r\\n  const tipWidth = 10;\\r\\n  const points = [];\\r\\n  points.push(\\\"0,0\\\");\\r\\n  points.push(`${breadcrumbWidth},0`);\\r\\n  points.push(`${breadcrumbWidth + tipWidth},${breadcrumbHeight / 2}`);\\r\\n  points.push(`${breadcrumbWidth},${breadcrumbHeight}`);\\r\\n  points.push(`0,${breadcrumbHeight}`);\\r\\n  if (i \\u003e 0) {\\r\\n    // Leftmost breadcrumb; don\\u0027t include 6th vertex.\\r\\n    points.push(`${tipWidth},${breadcrumbHeight / 2}`);\\r\\n  }\\r\\n  return points.join(\\\" \\\");\\r\\n}\\r\\n\\r\\ndefine(\\u0027sunburst\\u0027, [\\u0027d3\\u0027], function(d3) {\\r\\n\\r\\n    console.log(\\\"test1\\\")\\r\\n  const draw = function(data) {\\r\\n    console.log(\\\"test2\\\")\\r\\n      console.log(data);\\r\\n  var partition = data =\\u003e\\r\\n  d3.partition().size([2 * Math.PI, radius * radius])(\\r\\n    d3\\r\\n      .hierarchy(data)\\r\\n      .sum(d =\\u003e d.value)\\r\\n      .sort((a, b) =\\u003e b.value - a.value)\\r\\n  )\\r\\n\\r\\n    console.log(\\\"test3\\\")\\r\\n\\r\\n  var color = d3\\r\\n  .scaleOrdinal()\\r\\n  .domain([\\\"home\\\", \\\"product\\\", \\\"search\\\", \\\"account\\\", \\\"other\\\", \\\"end\\\"])\\r\\n  .range([\\\"#5d85cf\\\", \\\"#7c6561\\\", \\\"#da7847\\\", \\\"#6fb971\\\", \\\"#9e70cf\\\", \\\"#bbbbbb\\\"])\\r\\n\\r\\n  var arc = d3\\r\\n  .arc()\\r\\n  .startAngle(d =\\u003e d.x0)\\r\\n  .endAngle(d =\\u003e d.x1)\\r\\n  .padAngle(1 / radius)\\r\\n  .padRadius(radius)\\r\\n  .innerRadius(d =\\u003e Math.sqrt(d.y0))\\r\\n  .outerRadius(d =\\u003e Math.sqrt(d.y1) - 1)\\r\\n\\r\\n  var mousearc = d3\\r\\n  .arc()\\r\\n  .startAngle(d =\\u003e d.x0)\\r\\n  .endAngle(d =\\u003e d.x1)\\r\\n  .innerRadius(d =\\u003e Math.sqrt(d.y0))\\r\\n  .outerRadius(radius)\\r\\n\\r\\n  const root = partition(data);\\r\\n  const svg = d3.select(\\\"#viz\\\");\\r\\n  console.log(\\\"found svg \\\" + svg)\\r\\n  // Make this into a view, so that the currently hovered sequence is available to the breadcrumb\\r\\n  const element = svg.node();\\r\\n  element.value = { sequence: [], percentage: 0.0 };\\r\\n\\r\\n  console.log(\\\"test4\\\")\\r\\n\\r\\n  const label = svg\\r\\n    .append(\\\"text\\\")\\r\\n    .attr(\\\"text-anchor\\\", \\\"middle\\\")\\r\\n    .attr(\\\"fill\\\", \\\"#888\\\")\\r\\n    .style(\\\"visibility\\\", \\\"hidden\\\");\\r\\n\\r\\n  label\\r\\n    .append(\\\"tspan\\\")\\r\\n    .attr(\\\"class\\\", \\\"percentage\\\")\\r\\n    .attr(\\\"x\\\", 0)\\r\\n    .attr(\\\"y\\\", 0)\\r\\n    .attr(\\\"dy\\\", \\\"-0.1em\\\")\\r\\n    .attr(\\\"font-size\\\", \\\"3em\\\")\\r\\n    .text(\\\"\\\");\\r\\n\\r\\n  label\\r\\n    .append(\\\"tspan\\\")\\r\\n    .attr(\\\"x\\\", 0)\\r\\n    .attr(\\\"y\\\", 0)\\r\\n    .attr(\\\"dy\\\", \\\"1.5em\\\")\\r\\n    .text(\\\"of visits begin with this sequence\\\");\\r\\n\\r\\n  svg\\r\\n    .attr(\\\"viewBox\\\", `${-radius} ${-radius} ${width} ${width}`)\\r\\n    .style(\\\"max-width\\\", `${width}px`)\\r\\n    .style(\\\"font\\\", \\\"12px sans-serif\\\");\\r\\n\\r\\n  const path = svg\\r\\n    .append(\\\"g\\\")\\r\\n    .selectAll(\\\"path\\\")\\r\\n    .data(\\r\\n      root.descendants().filter(d =\\u003e {\\r\\n        // Don\\u0027t draw the root node, and for efficiency, filter out nodes that would be too small to see\\r\\n        return d.depth \\u0026\\u0026 d.x1 - d.x0 \\u003e 0.001;\\r\\n      })\\r\\n    )\\r\\n    .join(\\\"path\\\")\\r\\n    .attr(\\\"fill\\\", d =\\u003e color(d.data.name))\\r\\n    .attr(\\\"d\\\", arc);\\r\\n\\r\\n  svg\\r\\n    .append(\\\"g\\\")\\r\\n    .attr(\\\"fill\\\", \\\"none\\\")\\r\\n    .attr(\\\"pointer-events\\\", \\\"all\\\")\\r\\n    .on(\\\"mouseleave\\\", () =\\u003e {\\r\\n      path.attr(\\\"fill-opacity\\\", 1);\\r\\n      label.style(\\\"visibility\\\", \\\"hidden\\\");\\r\\n      // Update the value of this view\\r\\n      element.value = { sequence: [], percentage: 0.0 };\\r\\n      element.dispatchEvent(new CustomEvent(\\\"input\\\"));\\r\\n    })\\r\\n    .selectAll(\\\"path\\\")\\r\\n    .data(\\r\\n      root.descendants().filter(d =\\u003e {\\r\\n        // Don\\u0027t draw the root node, and for efficiency, filter out nodes that would be too small to see\\r\\n        return d.depth \\u0026\\u0026 d.x1 - d.x0 \\u003e 0.001;\\r\\n      })\\r\\n    )\\r\\n    .join(\\\"path\\\")\\r\\n    .attr(\\\"d\\\", mousearc)\\r\\n    .on(\\\"mouseenter\\\", (event, d) =\\u003e {\\r\\n\\r\\n        // Get the ancestors of the current segment, minus the root\\r\\n        const sequence = d\\r\\n            .ancestors()\\r\\n            .reverse()\\r\\n            .slice(1);\\r\\n            console.log(\\\"mouseenter1\\\")\\r\\n\\r\\n        // Highlight the ancestors\\r\\n        path.attr(\\\"opacity\\\", node =\\u003e\\r\\n            sequence.indexOf(node) \\u003e= 0 ? 1.0 : 0.3\\r\\n        );\\r\\n        //path.attr(\\\"opacity\\\", 0.5)\\r\\n        console.log(\\\"mouseenter2\\\")\\r\\n        \\r\\n        const percentage = ((100 * d.value) / root.value).toPrecision(3);\\r\\n\\r\\n        label\\r\\n            .style(\\\"visibility\\\", null)\\r\\n            .select(\\\".percentage\\\")\\r\\n            .text(percentage + \\\"%\\\");\\r\\n\\r\\n        // Update the value of this view with the currently hovered sequence and percentage\\r\\n        element.value = { sequence, percentage };\\r\\n        element.dispatchEvent(new CustomEvent(\\\"input\\\"));\\r\\n            console.log(\\\"mouseenter3\\\")\\r\\n    });\\r\\n\\r\\n  }\\r\\n  return draw;\\r\\n})\"\n)(\n    interactive,\n    console,\n    notebookScope\n);\n\n        } catch (err) {\n            interactive.failCommand(err, '7');\n        } finally {\n            await interactive.waitForAllEventsToPublish('7');\n            await interactive.markExecutionComplete('7');\n        }\n    });\n}\n</script>"
     },
     "output_type": "unknown"
    },
    {
     "data": {
      "text/plain": "test1"
     },
     "output_type": "unknown"
    }
   ],
   "source": [
    "var width = 932\r\n",
    "var height = 932\r\n",
    "var breadcrumbWidth = 75\r\n",
    "var breadcrumbHeight = 30\r\n",
    "var width = 640\r\n",
    "var radius = 320\r\n",
    "\r\n",
    "function breadcrumbPoints(d, i) {\r\n",
    "  const tipWidth = 10;\r\n",
    "  const points = [];\r\n",
    "  points.push(\"0,0\");\r\n",
    "  points.push(`${breadcrumbWidth},0`);\r\n",
    "  points.push(`${breadcrumbWidth + tipWidth},${breadcrumbHeight / 2}`);\r\n",
    "  points.push(`${breadcrumbWidth},${breadcrumbHeight}`);\r\n",
    "  points.push(`0,${breadcrumbHeight}`);\r\n",
    "  if (i > 0) {\r\n",
    "    // Leftmost breadcrumb; don't include 6th vertex.\r\n",
    "    points.push(`${tipWidth},${breadcrumbHeight / 2}`);\r\n",
    "  }\r\n",
    "  return points.join(\" \");\r\n",
    "}\r\n",
    "\r\n",
    "define('sunburst', ['d3'], function(d3) {\r\n",
    "\r\n",
    "    console.log(\"test1\")\r\n",
    "  const draw = function(data) {\r\n",
    "    console.log(\"test2\")\r\n",
    "      console.log(data);\r\n",
    "  var partition = data =>\r\n",
    "  d3.partition().size([2 * Math.PI, radius * radius])(\r\n",
    "    d3\r\n",
    "      .hierarchy(data)\r\n",
    "      .sum(d => d.value)\r\n",
    "      .sort((a, b) => b.value - a.value)\r\n",
    "  )\r\n",
    "\r\n",
    "    console.log(\"test3\")\r\n",
    "\r\n",
    "  var color = d3\r\n",
    "  .scaleOrdinal()\r\n",
    "  .domain([\"home\", \"product\", \"search\", \"account\", \"other\", \"end\"])\r\n",
    "  .range([\"#5d85cf\", \"#7c6561\", \"#da7847\", \"#6fb971\", \"#9e70cf\", \"#bbbbbb\"])\r\n",
    "\r\n",
    "  var arc = d3\r\n",
    "  .arc()\r\n",
    "  .startAngle(d => d.x0)\r\n",
    "  .endAngle(d => d.x1)\r\n",
    "  .padAngle(1 / radius)\r\n",
    "  .padRadius(radius)\r\n",
    "  .innerRadius(d => Math.sqrt(d.y0))\r\n",
    "  .outerRadius(d => Math.sqrt(d.y1) - 1)\r\n",
    "\r\n",
    "  var mousearc = d3\r\n",
    "  .arc()\r\n",
    "  .startAngle(d => d.x0)\r\n",
    "  .endAngle(d => d.x1)\r\n",
    "  .innerRadius(d => Math.sqrt(d.y0))\r\n",
    "  .outerRadius(radius)\r\n",
    "\r\n",
    "  const root = partition(data);\r\n",
    "  const svg = d3.select(\"#viz\");\r\n",
    "  console.log(\"found svg \" + svg)\r\n",
    "  // Make this into a view, so that the currently hovered sequence is available to the breadcrumb\r\n",
    "  const element = svg.node();\r\n",
    "  element.value = { sequence: [], percentage: 0.0 };\r\n",
    "\r\n",
    "  console.log(\"test4\")\r\n",
    "\r\n",
    "  const label = svg\r\n",
    "    .append(\"text\")\r\n",
    "    .attr(\"text-anchor\", \"middle\")\r\n",
    "    .attr(\"fill\", \"#888\")\r\n",
    "    .style(\"visibility\", \"hidden\");\r\n",
    "\r\n",
    "  label\r\n",
    "    .append(\"tspan\")\r\n",
    "    .attr(\"class\", \"percentage\")\r\n",
    "    .attr(\"x\", 0)\r\n",
    "    .attr(\"y\", 0)\r\n",
    "    .attr(\"dy\", \"-0.1em\")\r\n",
    "    .attr(\"font-size\", \"3em\")\r\n",
    "    .text(\"\");\r\n",
    "\r\n",
    "  label\r\n",
    "    .append(\"tspan\")\r\n",
    "    .attr(\"x\", 0)\r\n",
    "    .attr(\"y\", 0)\r\n",
    "    .attr(\"dy\", \"1.5em\")\r\n",
    "    .text(\"of visits begin with this sequence\");\r\n",
    "\r\n",
    "  svg\r\n",
    "    .attr(\"viewBox\", `${-radius} ${-radius} ${width} ${width}`)\r\n",
    "    .style(\"max-width\", `${width}px`)\r\n",
    "    .style(\"font\", \"12px sans-serif\");\r\n",
    "\r\n",
    "  const path = svg\r\n",
    "    .append(\"g\")\r\n",
    "    .selectAll(\"path\")\r\n",
    "    .data(\r\n",
    "      root.descendants().filter(d => {\r\n",
    "        // Don't draw the root node, and for efficiency, filter out nodes that would be too small to see\r\n",
    "        return d.depth && d.x1 - d.x0 > 0.001;\r\n",
    "      })\r\n",
    "    )\r\n",
    "    .join(\"path\")\r\n",
    "    .attr(\"fill\", d => color(d.data.name))\r\n",
    "    .attr(\"d\", arc);\r\n",
    "\r\n",
    "  svg\r\n",
    "    .append(\"g\")\r\n",
    "    .attr(\"fill\", \"none\")\r\n",
    "    .attr(\"pointer-events\", \"all\")\r\n",
    "    .on(\"mouseleave\", () => {\r\n",
    "      path.attr(\"fill-opacity\", 1);\r\n",
    "      label.style(\"visibility\", \"hidden\");\r\n",
    "      // Update the value of this view\r\n",
    "      element.value = { sequence: [], percentage: 0.0 };\r\n",
    "      element.dispatchEvent(new CustomEvent(\"input\"));\r\n",
    "    })\r\n",
    "    .selectAll(\"path\")\r\n",
    "    .data(\r\n",
    "      root.descendants().filter(d => {\r\n",
    "        // Don't draw the root node, and for efficiency, filter out nodes that would be too small to see\r\n",
    "        return d.depth && d.x1 - d.x0 > 0.001;\r\n",
    "      })\r\n",
    "    )\r\n",
    "    .join(\"path\")\r\n",
    "    .attr(\"d\", mousearc)\r\n",
    "    .on(\"mouseenter\", (event, d) => {\r\n",
    "\r\n",
    "        // Get the ancestors of the current segment, minus the root\r\n",
    "        const sequence = d\r\n",
    "            .ancestors()\r\n",
    "            .reverse()\r\n",
    "            .slice(1);\r\n",
    "            console.log(\"mouseenter1\")\r\n",
    "\r\n",
    "        // Highlight the ancestors\r\n",
    "        path.attr(\"opacity\", node =>\r\n",
    "            sequence.indexOf(node) >= 0 ? 1.0 : 0.3\r\n",
    "        );\r\n",
    "        //path.attr(\"opacity\", 0.5)\r\n",
    "        console.log(\"mouseenter2\")\r\n",
    "        \r\n",
    "        const percentage = ((100 * d.value) / root.value).toPrecision(3);\r\n",
    "\r\n",
    "        label\r\n",
    "            .style(\"visibility\", null)\r\n",
    "            .select(\".percentage\")\r\n",
    "            .text(percentage + \"%\");\r\n",
    "\r\n",
    "        // Update the value of this view with the currently hovered sequence and percentage\r\n",
    "        element.value = { sequence, percentage };\r\n",
    "        element.dispatchEvent(new CustomEvent(\"input\"));\r\n",
    "            console.log(\"mouseenter3\")\r\n",
    "    });\r\n",
    "\r\n",
    "  }\r\n",
    "  return draw;\r\n",
    "})"
   ]
  },
  {
   "cell_type": "code",
   "execution_count": null,
   "metadata": {
    "dotnet_interactive": {
     "language": "javascript"
    }
   },
   "outputs": [
    {
     "data": {
      "text/html": "<script type=\"text/javascript\">\nif (typeof window.createDotnetInteractiveClient === typeof Function) {\n    window.createDotnetInteractiveClient('http://localhost:51280/').then(async function (interactive) {\n        const console = interactive.getConsole('8');\n        const notebookScope = getDotnetInteractiveScope('http://localhost:51280/');\n        try {\n\nawait Object.getPrototypeOf(async function() {}).constructor(\n    \"interactive\",\n    \"console\",\n    \"notebookScope\",\n    \"require([\\u0027getfiledata\\u0027, \\u0027sunburst\\u0027], function(getData, draw) {\\r\\n\\r\\n    getData().then(draw)\\r\\n  \\r\\n  })\\r\\n  \"\n)(\n    interactive,\n    console,\n    notebookScope\n);\n\n        } catch (err) {\n            interactive.failCommand(err, '8');\n        } finally {\n            await interactive.waitForAllEventsToPublish('8');\n            await interactive.markExecutionComplete('8');\n        }\n    });\n}\n</script>"
     },
     "output_type": "unknown"
    }
   ],
   "source": [
    "require(['getfiledata', 'sunburst'], function(getData, draw) {\r\n",
    "\r\n",
    "    getData().then(draw)\r\n",
    "  \r\n",
    "  })\r\n",
    "  "
   ]
  }
 ],
 "metadata": {
  "kernelspec": {
   "display_name": ".NET (C#)",
   "language": "C#",
   "name": ".net-csharp"
  },
  "language_info": {
   "file_extension": ".cs",
   "mimetype": "text/x-csharp",
   "name": "C#",
   "pygments_lexer": "csharp",
   "version": "9.0"
  },
  "orig_nbformat": 2
 },
 "nbformat": 4,
 "nbformat_minor": 2
}