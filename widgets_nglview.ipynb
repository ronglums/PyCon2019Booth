{
 "cells": [
  {
   "cell_type": "code",
   "execution_count": 3,
   "metadata": {},
   "outputs": [
    {
     "name": "stdout",
     "output_type": "stream",
     "text": [
      "Collecting nglview\n",
      "  Downloading nglview-3.0.1.tar.gz (5.7 MB)\n",
      "  Installing build dependencies: started\n",
      "  Installing build dependencies: finished with status 'done'\n",
      "  Getting requirements to build wheel: started\n",
      "  Getting requirements to build wheel: finished with status 'done'\n",
      "    Preparing wheel metadata: started\n",
      "    Preparing wheel metadata: finished with status 'done'\n",
      "Requirement already satisfied: jupyterlab-widgets in c:\\users\\ronglu\\anaconda3\\lib\\site-packages (from nglview) (1.0.0)\n",
      "Requirement already satisfied: ipywidgets>=7 in c:\\users\\ronglu\\anaconda3\\lib\\site-packages (from nglview) (7.6.3)\n",
      "Requirement already satisfied: numpy in c:\\users\\ronglu\\anaconda3\\lib\\site-packages (from nglview) (1.19.2)\n",
      "Requirement already satisfied: widgetsnbextension~=3.5.0 in c:\\users\\ronglu\\anaconda3\\lib\\site-packages (from ipywidgets>=7->nglview) (3.5.1)\n",
      "Requirement already satisfied: traitlets>=4.3.1 in c:\\users\\ronglu\\anaconda3\\lib\\site-packages (from ipywidgets>=7->nglview) (5.0.5)\n",
      "Requirement already satisfied: nbformat>=4.2.0 in c:\\users\\ronglu\\anaconda3\\lib\\site-packages (from ipywidgets>=7->nglview) (5.0.8)\n",
      "Requirement already satisfied: ipython>=4.0.0; python_version >= \"3.3\" in c:\\users\\ronglu\\anaconda3\\lib\\site-packages (from ipywidgets>=7->nglview) (7.19.0)\n",
      "Requirement already satisfied: ipykernel>=4.5.1 in c:\\users\\ronglu\\anaconda3\\lib\\site-packages (from ipywidgets>=7->nglview) (5.3.4)\n",
      "Requirement already satisfied: notebook>=4.4.1 in c:\\users\\ronglu\\anaconda3\\lib\\site-packages (from widgetsnbextension~=3.5.0->ipywidgets>=7->nglview) (6.1.4)\n",
      "Requirement already satisfied: ipython-genutils in c:\\users\\ronglu\\anaconda3\\lib\\site-packages (from traitlets>=4.3.1->ipywidgets>=7->nglview) (0.2.0)\n",
      "Requirement already satisfied: jupyter-core in c:\\users\\ronglu\\anaconda3\\lib\\site-packages (from nbformat>=4.2.0->ipywidgets>=7->nglview) (4.6.3)\n",
      "Requirement already satisfied: jsonschema!=2.5.0,>=2.4 in c:\\users\\ronglu\\anaconda3\\lib\\site-packages (from nbformat>=4.2.0->ipywidgets>=7->nglview) (3.2.0)\n",
      "Requirement already satisfied: prompt-toolkit!=3.0.0,!=3.0.1,<3.1.0,>=2.0.0 in c:\\users\\ronglu\\anaconda3\\lib\\site-packages (from ipython>=4.0.0; python_version >= \"3.3\"->ipywidgets>=7->nglview) (3.0.8)\n",
      "Requirement already satisfied: backcall in c:\\users\\ronglu\\anaconda3\\lib\\site-packages (from ipython>=4.0.0; python_version >= \"3.3\"->ipywidgets>=7->nglview) (0.2.0)\n",
      "Requirement already satisfied: colorama; sys_platform == \"win32\" in c:\\users\\ronglu\\anaconda3\\lib\\site-packages (from ipython>=4.0.0; python_version >= \"3.3\"->ipywidgets>=7->nglview) (0.4.4)\n",
      "Requirement already satisfied: pickleshare in c:\\users\\ronglu\\anaconda3\\lib\\site-packages (from ipython>=4.0.0; python_version >= \"3.3\"->ipywidgets>=7->nglview) (0.7.5)\n",
      "Requirement already satisfied: setuptools>=18.5 in c:\\users\\ronglu\\anaconda3\\lib\\site-packages (from ipython>=4.0.0; python_version >= \"3.3\"->ipywidgets>=7->nglview) (50.3.1.post20201107)\n",
      "Requirement already satisfied: decorator in c:\\users\\ronglu\\anaconda3\\lib\\site-packages (from ipython>=4.0.0; python_version >= \"3.3\"->ipywidgets>=7->nglview) (4.4.2)\n",
      "Requirement already satisfied: pygments in c:\\users\\ronglu\\anaconda3\\lib\\site-packages (from ipython>=4.0.0; python_version >= \"3.3\"->ipywidgets>=7->nglview) (2.7.2)\n",
      "Requirement already satisfied: jedi>=0.10 in c:\\users\\ronglu\\anaconda3\\lib\\site-packages (from ipython>=4.0.0; python_version >= \"3.3\"->ipywidgets>=7->nglview) (0.17.1)\n",
      "Requirement already satisfied: jupyter-client in c:\\users\\ronglu\\anaconda3\\lib\\site-packages (from ipykernel>=4.5.1->ipywidgets>=7->nglview) (6.1.7)\n",
      "Requirement already satisfied: tornado>=4.2 in c:\\users\\ronglu\\anaconda3\\lib\\site-packages (from ipykernel>=4.5.1->ipywidgets>=7->nglview) (6.0.4)\n",
      "Requirement already satisfied: prometheus-client in c:\\users\\ronglu\\anaconda3\\lib\\site-packages (from notebook>=4.4.1->widgetsnbextension~=3.5.0->ipywidgets>=7->nglview) (0.8.0)\n",
      "Requirement already satisfied: nbconvert in c:\\users\\ronglu\\anaconda3\\lib\\site-packages (from notebook>=4.4.1->widgetsnbextension~=3.5.0->ipywidgets>=7->nglview) (6.0.7)\n",
      "Requirement already satisfied: jinja2 in c:\\users\\ronglu\\anaconda3\\lib\\site-packages (from notebook>=4.4.1->widgetsnbextension~=3.5.0->ipywidgets>=7->nglview) (2.11.2)\n",
      "Requirement already satisfied: pyzmq>=17 in c:\\users\\ronglu\\anaconda3\\lib\\site-packages (from notebook>=4.4.1->widgetsnbextension~=3.5.0->ipywidgets>=7->nglview) (19.0.2)\n",
      "Requirement already satisfied: Send2Trash in c:\\users\\ronglu\\anaconda3\\lib\\site-packages (from notebook>=4.4.1->widgetsnbextension~=3.5.0->ipywidgets>=7->nglview) (1.5.0)\n",
      "Requirement already satisfied: argon2-cffi in c:\\users\\ronglu\\anaconda3\\lib\\site-packages (from notebook>=4.4.1->widgetsnbextension~=3.5.0->ipywidgets>=7->nglview) (20.1.0)\n",
      "Requirement already satisfied: terminado>=0.8.3 in c:\\users\\ronglu\\anaconda3\\lib\\site-packages (from notebook>=4.4.1->widgetsnbextension~=3.5.0->ipywidgets>=7->nglview) (0.9.1)\n",
      "Requirement already satisfied: pywin32>=1.0; sys_platform == \"win32\" in c:\\users\\ronglu\\anaconda3\\lib\\site-packages (from jupyter-core->nbformat>=4.2.0->ipywidgets>=7->nglview) (227)\n",
      "Requirement already satisfied: attrs>=17.4.0 in c:\\users\\ronglu\\anaconda3\\lib\\site-packages (from jsonschema!=2.5.0,>=2.4->nbformat>=4.2.0->ipywidgets>=7->nglview) (20.3.0)\n",
      "Requirement already satisfied: pyrsistent>=0.14.0 in c:\\users\\ronglu\\anaconda3\\lib\\site-packages (from jsonschema!=2.5.0,>=2.4->nbformat>=4.2.0->ipywidgets>=7->nglview) (0.17.3)\n",
      "Requirement already satisfied: six>=1.11.0 in c:\\users\\ronglu\\anaconda3\\lib\\site-packages (from jsonschema!=2.5.0,>=2.4->nbformat>=4.2.0->ipywidgets>=7->nglview) (1.15.0)\n",
      "Requirement already satisfied: wcwidth in c:\\users\\ronglu\\anaconda3\\lib\\site-packages (from prompt-toolkit!=3.0.0,!=3.0.1,<3.1.0,>=2.0.0->ipython>=4.0.0; python_version >= \"3.3\"->ipywidgets>=7->nglview) (0.2.5)\n",
      "Requirement already satisfied: parso<0.8.0,>=0.7.0 in c:\\users\\ronglu\\anaconda3\\lib\\site-packages (from jedi>=0.10->ipython>=4.0.0; python_version >= \"3.3\"->ipywidgets>=7->nglview) (0.7.0)\n",
      "Requirement already satisfied: python-dateutil>=2.1 in c:\\users\\ronglu\\anaconda3\\lib\\site-packages (from jupyter-client->ipykernel>=4.5.1->ipywidgets>=7->nglview) (2.8.1)\n",
      "Requirement already satisfied: mistune<2,>=0.8.1 in c:\\users\\ronglu\\anaconda3\\lib\\site-packages (from nbconvert->notebook>=4.4.1->widgetsnbextension~=3.5.0->ipywidgets>=7->nglview) (0.8.4)\n",
      "Requirement already satisfied: entrypoints>=0.2.2 in c:\\users\\ronglu\\anaconda3\\lib\\site-packages (from nbconvert->notebook>=4.4.1->widgetsnbextension~=3.5.0->ipywidgets>=7->nglview) (0.3)\n",
      "Requirement already satisfied: pandocfilters>=1.4.1 in c:\\users\\ronglu\\anaconda3\\lib\\site-packages (from nbconvert->notebook>=4.4.1->widgetsnbextension~=3.5.0->ipywidgets>=7->nglview) (1.4.3)\n",
      "Requirement already satisfied: nbclient<0.6.0,>=0.5.0 in c:\\users\\ronglu\\anaconda3\\lib\\site-packages (from nbconvert->notebook>=4.4.1->widgetsnbextension~=3.5.0->ipywidgets>=7->nglview) (0.5.1)\n",
      "Requirement already satisfied: jupyterlab-pygments in c:\\users\\ronglu\\anaconda3\\lib\\site-packages (from nbconvert->notebook>=4.4.1->widgetsnbextension~=3.5.0->ipywidgets>=7->nglview) (0.1.2)\n",
      "Requirement already satisfied: testpath in c:\\users\\ronglu\\anaconda3\\lib\\site-packages (from nbconvert->notebook>=4.4.1->widgetsnbextension~=3.5.0->ipywidgets>=7->nglview) (0.4.4)\n",
      "Requirement already satisfied: defusedxml in c:\\users\\ronglu\\anaconda3\\lib\\site-packages (from nbconvert->notebook>=4.4.1->widgetsnbextension~=3.5.0->ipywidgets>=7->nglview) (0.6.0)\n",
      "Requirement already satisfied: bleach in c:\\users\\ronglu\\anaconda3\\lib\\site-packages (from nbconvert->notebook>=4.4.1->widgetsnbextension~=3.5.0->ipywidgets>=7->nglview) (3.2.1)\n",
      "Requirement already satisfied: MarkupSafe>=0.23 in c:\\users\\ronglu\\anaconda3\\lib\\site-packages (from jinja2->notebook>=4.4.1->widgetsnbextension~=3.5.0->ipywidgets>=7->nglview) (1.1.1)\n",
      "Note: you may need to restart the kernel to use updated packages.Requirement already satisfied: cffi>=1.0.0 in c:\\users\\ronglu\\anaconda3\\lib\\site-packages (from argon2-cffi->notebook>=4.4.1->widgetsnbextension~=3.5.0->ipywidgets>=7->nglview) (1.14.3)\n",
      "Requirement already satisfied: pywinpty>=0.5 in c:\\users\\ronglu\\anaconda3\\lib\\site-packages (from terminado>=0.8.3->notebook>=4.4.1->widgetsnbextension~=3.5.0->ipywidgets>=7->nglview) (0.5.7)\n",
      "Requirement already satisfied: async-generator in c:\\users\\ronglu\\anaconda3\\lib\\site-packages (from nbclient<0.6.0,>=0.5.0->nbconvert->notebook>=4.4.1->widgetsnbextension~=3.5.0->ipywidgets>=7->nglview) (1.10)\n",
      "Requirement already satisfied: nest-asyncio in c:\\users\\ronglu\\anaconda3\\lib\\site-packages (from nbclient<0.6.0,>=0.5.0->nbconvert->notebook>=4.4.1->widgetsnbextension~=3.5.0->ipywidgets>=7->nglview) (1.4.2)\n",
      "Requirement already satisfied: webencodings in c:\\users\\ronglu\\anaconda3\\lib\\site-packages (from bleach->nbconvert->notebook>=4.4.1->widgetsnbextension~=3.5.0->ipywidgets>=7->nglview) (0.5.1)\n",
      "Requirement already satisfied: packaging in c:\\users\\ronglu\\anaconda3\\lib\\site-packages (from bleach->nbconvert->notebook>=4.4.1->widgetsnbextension~=3.5.0->ipywidgets>=7->nglview) (20.4)\n",
      "Requirement already satisfied: pycparser in c:\\users\\ronglu\\anaconda3\\lib\\site-packages (from cffi>=1.0.0->argon2-cffi->notebook>=4.4.1->widgetsnbextension~=3.5.0->ipywidgets>=7->nglview) (2.20)\n",
      "Requirement already satisfied: pyparsing>=2.0.2 in c:\\users\\ronglu\\anaconda3\\lib\\site-packages (from packaging->bleach->nbconvert->notebook>=4.4.1->widgetsnbextension~=3.5.0->ipywidgets>=7->nglview) (2.4.7)\n",
      "Building wheels for collected packages: nglview\n",
      "\n",
      "  Building wheel for nglview (PEP 517): started\n",
      "  Building wheel for nglview (PEP 517): finished with status 'done'\n",
      "  Created wheel for nglview: filename=nglview-3.0.1-py3-none-any.whl size=8057506 sha256=1f14aabce205558281ce2ab5ccd61eeff05932d89d0a405aae1dce79af0c1ba7\n",
      "  Stored in directory: c:\\users\\ronglu\\appdata\\local\\pip\\cache\\wheels\\9d\\b7\\68\\7773fbf391bd5b02efe6e36bb9f9e8403c301472955458ab47\n",
      "Successfully built nglview\n",
      "Installing collected packages: nglview\n",
      "Successfully installed nglview-3.0.1\n"
     ]
    }
   ],
   "source": [
    "%pip install nglview"
   ]
  },
  {
   "cell_type": "code",
   "execution_count": 4,
   "metadata": {},
   "outputs": [
    {
     "data": {
      "application/vnd.jupyter.widget-view+json": {
       "model_id": "6674f9b21fdc413d85ec9ef0ddf3f0e7",
       "version_major": 2,
       "version_minor": 0
      },
      "text/plain": ""
     },
     "metadata": {},
     "output_type": "display_data"
    },
    {
     "data": {
      "application/vnd.jupyter.widget-view+json": {
       "model_id": "4f9abe30c08341d1936edb2b999791ce",
       "version_major": 2,
       "version_minor": 0
      },
      "text/plain": "NGLWidget()"
     },
     "metadata": {},
     "output_type": "display_data"
    }
   ],
   "source": [
    "import nglview\n",
    "view = nglview.show_pdbid(\"3pqr\")  # load \"3pqr\" from RCSB PDB and display viewer widget\n",
    "view\n",
    "\n"
   ]
  }
 ],
 "metadata": {
  "kernelspec": {
   "display_name": "Python 3.8.5 64-bit ('base': conda)",
   "name": "python385jvsc74a57bd013adcd66d8dada4a736fe85cf3dd79598edabc2035e59a9239f2d07140176008"
  },
  "language_info": {
   "codemirror_mode": {
    "name": "ipython",
    "version": 3
   },
   "file_extension": ".py",
   "mimetype": "text/x-python",
   "name": "python",
   "nbconvert_exporter": "python",
   "pygments_lexer": "ipython3",
   "version": "3.8.5"
  },
  "metadata": {
   "interpreter": {
    "hash": "7e55a908a7f42a0a16cba4d1f22cd4d26662036f7d3ffcaad2a76a5d4632387b"
   }
  },
  "toc": {
   "base_numbering": 1,
   "nav_menu": {},
   "number_sections": false,
   "sideBar": false,
   "skip_h1_title": false,
   "title_cell": "Table of Contents",
   "title_sidebar": "Contents",
   "toc_cell": false,
   "toc_position": {},
   "toc_section_display": false,
   "toc_window_display": false
  }
 },
 "nbformat": 4,
 "nbformat_minor": 4
}