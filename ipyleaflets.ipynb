{
  "cells": [
    {
      "cell_type": "markdown",
      "metadata": {},
      "source": [
        "# Prerequisites\n",
        "\n",
        "### pip install ipyleaflet"
      ]
    },
    {
      "cell_type": "code",
      "execution_count": 1,
      "metadata": {
        "dotnet_interactive": {
          "language": "csharp"
        }
      },
      "outputs": [],
      "source": [
        "%pip install ipyleaflet"
      ]
    },
    {
      "cell_type": "markdown",
      "metadata": {},
      "source": [
        "%pip install ipyleaflet"
      ]
    },
    {
      "cell_type": "code",
      "execution_count": 11,
      "metadata": {
        "dotnet_interactive": {
          "language": "csharp"
        }
      },
      "outputs": [
        {
          "data": {
            "application/vnd.jupyter.widget-view+json": {
              "model_id": "40d79a2633274ebcaaeb9fb9a73bdb2b",
              "version_major": 2,
              "version_minor": 0
            },
            "text/plain": "Map(center=[52.204793, 360.121558], controls=(ZoomControl(options=['position', 'zoom_in_text', 'zoom_in_title'…"
          },
          "metadata": {
            "transient": {}
          },
          "output_type": "display_data"
        }
      ],
      "source": [
        "from ipyleaflet import (\n",
        "    Map,\n",
        "    Marker, MarkerCluster,\n",
        "    TileLayer, ImageOverlay,\n",
        "    Polyline, Polygon, Rectangle, Circle, CircleMarker,\n",
        "    Popup,\n",
        "    GeoJSON,\n",
        "    DrawControl,\n",
        "    basemaps\n",
        ")\n",
        "from ipyleaflet.leaflet import Heatmap\n",
        "from ipywidgets import HTML\n",
        "from random import uniform\n",
        "import time\n",
        "center = (52.204793, 360.121558)\n",
        "\n",
        "m = Map(center=center, zoom=15)\n",
        "\n",
        "marker = Marker(location=center, draggable=True)\n",
        "m.add_layer(marker);\n",
        "\n",
        "display(m)"
      ]
    },
    {
      "cell_type": "code",
      "execution_count": 1,
      "metadata": {
        "dotnet_interactive": {
          "language": "csharp"
        }
      },
      "outputs": [],
      "source": [
        "def create_random_data(length):\n",
        "    \"Return a list of some random lat/lon/value triples.\"\n",
        "    return [[uniform(-80, 80), \n",
        "             uniform(-180, 180), \n",
        "             uniform(0, 1000)] for i in range(length)]"
      ]
    },
    {
      "cell_type": "code",
      "execution_count": 1,
      "metadata": {
        "dotnet_interactive": {
          "language": "csharp"
        }
      },
      "outputs": [
        {
          "data": {
            "application/vnd.jupyter.widget-view+json": {
              "model_id": "46b8a564f49c46fd8508929e2062a4b1",
              "version_major": 2,
              "version_minor": 0
            },
            "text/plain": "Map(center=[0, 0], controls=(ZoomControl(options=['position', 'zoom_in_text', 'zoom_in_title', 'zoom_out_text'…"
          },
          "execution_count": 1,
          "metadata": {},
          "output_type": "execute_result"
        }
      ],
      "source": [
        "m = Map(center=[0, 0], zoom=2)\n",
        "m"
      ]
    },
    {
      "cell_type": "code",
      "execution_count": 1,
      "metadata": {
        "dotnet_interactive": {
          "language": "csharp"
        }
      },
      "outputs": [],
      "source": [
        "heat = Heatmap(locations=create_random_data(1000), radius=20, blur=10)\n",
        "m.add_layer(heat)"
      ]
    },
    {
      "cell_type": "code",
      "execution_count": 1,
      "metadata": {
        "dotnet_interactive": {
          "language": "csharp"
        }
      },
      "outputs": [
        {
          "data": {
            "application/vnd.jupyter.widget-view+json": {
              "model_id": "b44d6e9f8b914ca0ae2415a0156d7ee0",
              "version_major": 2,
              "version_minor": 0
            },
            "text/plain": "Box(children=(FloatSlider(value=2.0, description='zoom', max=10.0, min=2.0, step=0.25),))"
          },
          "execution_count": 1,
          "metadata": {},
          "output_type": "execute_result"
        }
      ],
      "source": [
        "m.interact(zoom=(2,10,.25))"
      ]
    }
  ],
  "metadata": {
    "kernelspec": {
      "display_name": "Python 3.9.1 64-bit ('python39_conda': conda)",
      "metadata": {
        "interpreter": {
          "hash": "091c5f59ac1549b72b6d67f48732785cbc516c8e13df49fd6159f392ab688bc6"
        }
      },
      "name": "python3"
    },
    "language_info": {
      "codemirror_mode": {
        "name": "ipython",
        "version": 3
      },
      "file_extension": ".py",
      "mimetype": "text/x-python",
      "name": "python",
      "nbconvert_exporter": "python",
      "pygments_lexer": "ipython3",
      "version": "3.8.5"
    }
  },
  "nbformat": 4,
  "nbformat_minor": 4
}